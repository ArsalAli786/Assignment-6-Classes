{
 "cells": [
  {
   "cell_type": "markdown",
   "metadata": {},
   "source": [
    "# Arsal Ali\n",
    "# Python Batch 3 (9am-12am)\n",
    "# 31 Octobor 2024"
   ]
  },
  {
   "cell_type": "markdown",
   "metadata": {},
   "source": [
    "# 6th Assignment"
   ]
  },
  {
   "cell_type": "code",
   "execution_count": 1,
   "metadata": {},
   "outputs": [
    {
     "name": "stdout",
     "output_type": "stream",
     "text": [
      "14957.12\n",
      "433.54\n"
     ]
    }
   ],
   "source": [
    "# Circle Class\n",
    "\n",
    "import math\n",
    "class circle:\n",
    "    def __init__(self,radius):\n",
    "        self.radius = radius\n",
    "        self.area = (math.pi)*(radius**2)\n",
    "        self.perimeter = 2*(math.pi)*radius\n",
    "        \n",
    "c1 = circle(69)\n",
    "print(f'{c1.area:.2f}')\n",
    "print(f'{c1.perimeter:.2f}')"
   ]
  },
  {
   "cell_type": "code",
   "execution_count": 2,
   "metadata": {},
   "outputs": [
    {
     "name": "stdout",
     "output_type": "stream",
     "text": [
      "Arsal from Pakistan is 22 years old.\n"
     ]
    }
   ],
   "source": [
    "# Person Class\n",
    "\n",
    "from datetime import datetime\n",
    "\n",
    "class Person:\n",
    "    def __init__(self, name, country, date_of_birth):\n",
    "        self.name = name\n",
    "        self.country = country\n",
    "        self.date_of_birth = datetime.strptime(date_of_birth, '%d-%m-%Y')\n",
    "\n",
    "    def calculate_age(self):\n",
    "        current_date = datetime.today()\n",
    "        years_difference = current_date.year - self.date_of_birth.year\n",
    "        if (current_date.month, current_date.day) < (self.date_of_birth.month, self.date_of_birth.day):\n",
    "            years_difference -= 1\n",
    "        return years_difference\n",
    "\n",
    "p1 = Person(\"Arsal\", \"Pakistan\", \"07-11-2001\")\n",
    "print(f\"{p1.name} from {p1.country} is {p1.calculate_age()} years old.\")"
   ]
  },
  {
   "cell_type": "code",
   "execution_count": 3,
   "metadata": {},
   "outputs": [
    {
     "name": "stdout",
     "output_type": "stream",
     "text": [
      "Addition: 15\n",
      "Subtraction: -3\n",
      "Multiplication: 54\n",
      "Division: 0.6666666666666666\n"
     ]
    }
   ],
   "source": [
    "# Calculator Class\n",
    "\n",
    "class Calculator_Pro_Max:\n",
    "    def add(self, a , b):\n",
    "        return a + b\n",
    "\n",
    "    def subtract(self, a, b):\n",
    "        return a - b\n",
    "\n",
    "    def multiply(self, a, b):\n",
    "        return a * b\n",
    "\n",
    "    def divide(self, a, b):\n",
    "        if b == 0:\n",
    "            raise ValueError(\"Can't divide by zero\")\n",
    "        return a / b\n",
    "\n",
    "cal = Calculator_Pro_Max()\n",
    "print(\"Addition:\", cal.add(6, 9))\n",
    "print(\"Subtraction:\", cal.subtract(6, 9))\n",
    "print(\"Multiplication:\", cal.multiply(6, 9))\n",
    "print(\"Division:\", cal.divide(6, 9))"
   ]
  }
 ],
 "metadata": {
  "kernelspec": {
   "display_name": "Python 3",
   "language": "python",
   "name": "python3"
  },
  "language_info": {
   "codemirror_mode": {
    "name": "ipython",
    "version": 3
   },
   "file_extension": ".py",
   "mimetype": "text/x-python",
   "name": "python",
   "nbconvert_exporter": "python",
   "pygments_lexer": "ipython3",
   "version": "3.13.0"
  }
 },
 "nbformat": 4,
 "nbformat_minor": 2
}
